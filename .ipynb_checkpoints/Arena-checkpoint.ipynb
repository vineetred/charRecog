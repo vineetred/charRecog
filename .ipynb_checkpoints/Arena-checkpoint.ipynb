{
 "cells": [
  {
   "cell_type": "code",
   "execution_count": 1,
   "metadata": {},
   "outputs": [
    {
     "name": "stderr",
     "output_type": "stream",
     "text": [
      "Using TensorFlow backend.\n",
      "/Library/Frameworks/Python.framework/Versions/3.6/lib/python3.6/importlib/_bootstrap.py:219: RuntimeWarning: compiletime version 3.5 of module 'tensorflow.python.framework.fast_tensor_util' does not match runtime version 3.6\n",
      "  return f(*args, **kwds)\n"
     ]
    }
   ],
   "source": [
    "import matplotlib.pyplot as plt\n",
    "from keras.datasets import mnist\n",
    "import numpy as np\n",
    "import glob\n",
    "\n"
   ]
  },
  {
   "cell_type": "code",
   "execution_count": 2,
   "metadata": {},
   "outputs": [],
   "source": [
    "im = plt.imread(\"/Users/vineet/Desktop/cnn/English/img/GoodImg/Bmp/Sample001/img001-00001.png\")\n"
   ]
  },
  {
   "cell_type": "code",
   "execution_count": 3,
   "metadata": {},
   "outputs": [],
   "source": [
    "images = []\n",
    "labels = []\n",
    "for path in glob.glob(\"/Users/vineet/Desktop/cnn/English/img/GoodImg/Bmp/Sample*\"):\n",
    "#     print(path)\n",
    "#     for img in glob.glob(\"/Users/vineet/Desktop/cnn/English/img/GoodImg/Bmp/Sample001/*.png\"):\n",
    "    for img in glob.glob(path+\"/*.png\"):\n",
    "#         print(img)\n",
    "        n= plt.imread(img)\n",
    "        images.append(np.resize(n,(32,32,3)))\n",
    "        prefix = img.split(\"/Sample\")\n",
    "        prefix = prefix[1].split(\"/\")\n",
    "        labels.append(prefix[0])\n",
    "    "
   ]
  },
  {
   "cell_type": "code",
   "execution_count": 4,
   "metadata": {},
   "outputs": [
    {
     "data": {
      "text/plain": [
       "(7705, 32, 32, 3)"
      ]
     },
     "execution_count": 4,
     "metadata": {},
     "output_type": "execute_result"
    }
   ],
   "source": [
    "image2 = np.array(images)\n",
    "image2.shape"
   ]
  },
  {
   "cell_type": "code",
   "execution_count": 5,
   "metadata": {},
   "outputs": [
    {
     "data": {
      "text/plain": [
       "(7705,)"
      ]
     },
     "execution_count": 5,
     "metadata": {},
     "output_type": "execute_result"
    }
   ],
   "source": [
    "\n",
    "labels = np.array(labels)\n",
    "labels.shape"
   ]
  },
  {
   "cell_type": "code",
   "execution_count": null,
   "metadata": {},
   "outputs": [],
   "source": []
  },
  {
   "cell_type": "code",
   "execution_count": 6,
   "metadata": {},
   "outputs": [],
   "source": [
    "from keras.utils import to_categorical\n",
    "labels = to_categorical(labels)"
   ]
  },
  {
   "cell_type": "code",
   "execution_count": 9,
   "metadata": {},
   "outputs": [
    {
     "data": {
      "text/plain": [
       "(7705, 63)"
      ]
     },
     "execution_count": 9,
     "metadata": {},
     "output_type": "execute_result"
    }
   ],
   "source": [
    "labels.shape"
   ]
  },
  {
   "cell_type": "code",
   "execution_count": 34,
   "metadata": {},
   "outputs": [],
   "source": [
    "from keras.models import Sequential\n",
    "from keras.layers import Dense, Conv2D, Flatten,MaxPooling2D\n",
    "#create model\n",
    "model = Sequential()\n",
    "#add model layers\n",
    "model.add(Conv2D(filters = 96, kernel_size=(4,4), activation=\"relu\",input_shape = (32,32,3)))\n",
    "model.add(Conv2D(256, kernel_size=(4,4), activation=\"relu\"))\n",
    "model.add(MaxPooling2D(pool_size=(2, 2)))\n",
    "model.add(Conv2D(384, kernel_size=(4,4), activation=\"relu\"))\n",
    "model.add(Conv2D(8, kernel_size=(4,4), activation=\"relu\"))\n",
    "model.add(MaxPooling2D(pool_size=(4, 4)))\n",
    "model.add(Flatten())\n",
    "model.add(Dense(100, activation='relu'))\n",
    "model.add(Dense(80, activation='relu'))\n",
    "model.add(Dense(63, activation=\"softmax\"))"
   ]
  },
  {
   "cell_type": "code",
   "execution_count": 35,
   "metadata": {},
   "outputs": [],
   "source": [
    "model.compile(optimizer='adam', loss='categorical_crossentropy', metrics=['accuracy'])"
   ]
  },
  {
   "cell_type": "code",
   "execution_count": null,
   "metadata": {},
   "outputs": [
    {
     "name": "stdout",
     "output_type": "stream",
     "text": [
      "Epoch 1/5\n",
      " 320/7705 [>.............................] - ETA: 6:01 - loss: 4.1299 - acc: 0.0125 "
     ]
    }
   ],
   "source": [
    "model.fit(image2, labels, epochs=5)"
   ]
  },
  {
   "cell_type": "code",
   "execution_count": 33,
   "metadata": {},
   "outputs": [
    {
     "data": {
      "text/plain": [
       "array([8.23346636e-05, 1.49965417e-02, 9.28969122e-03, 8.96672811e-03,\n",
       "       6.46900665e-03, 5.62555157e-03, 7.96132907e-03, 7.46123772e-03,\n",
       "       5.09208534e-03, 3.68252234e-03, 4.93997196e-03, 7.01906756e-02,\n",
       "       1.56381652e-02, 2.82890778e-02, 2.55230237e-02, 4.99749407e-02,\n",
       "       1.04961265e-02, 2.03291811e-02, 2.56286301e-02, 3.69971171e-02,\n",
       "       1.09186620e-02, 1.45556955e-02, 2.63410378e-02, 1.89594496e-02,\n",
       "       4.75565195e-02, 4.87563461e-02, 2.19832752e-02, 5.19369636e-03,\n",
       "       4.70595732e-02, 3.84894572e-02, 3.81380245e-02, 1.41305272e-02,\n",
       "       1.14382021e-02, 8.94554332e-03, 9.79238003e-03, 1.01713203e-02,\n",
       "       7.57892290e-03, 1.97206475e-02, 5.15658036e-03, 9.37665720e-03,\n",
       "       6.98949257e-03, 3.05018481e-02, 4.90300637e-03, 5.06268349e-03,\n",
       "       6.47449819e-03, 1.72606166e-02, 5.13757160e-03, 5.06255357e-03,\n",
       "       8.11883993e-03, 6.81961747e-03, 1.73076857e-02, 2.13766415e-02,\n",
       "       5.16467635e-03, 7.70741375e-03, 1.73950735e-02, 1.77475456e-02,\n",
       "       1.40203927e-02, 5.74740674e-03, 4.96758427e-03, 5.11551928e-03,\n",
       "       4.77411039e-03, 5.83492219e-03, 4.61385818e-03], dtype=float32)"
      ]
     },
     "execution_count": 33,
     "metadata": {},
     "output_type": "execute_result"
    }
   ],
   "source": [
    "# img = np.array(image2[2])\n",
    "hello = model.predict(np.resize(image2[2],(1,32,32,3)))\n",
    "# max(hello)"
   ]
  },
  {
   "cell_type": "code",
   "execution_count": null,
   "metadata": {},
   "outputs": [],
   "source": []
  }
 ],
 "metadata": {
  "language_info": {
   "codemirror_mode": {
    "name": "ipython",
    "version": 3
   },
   "file_extension": ".py",
   "mimetype": "text/x-python",
   "name": "python",
   "nbconvert_exporter": "python",
   "pygments_lexer": "ipython3",
   "version": "3.6.4"
  }
 },
 "nbformat": 4,
 "nbformat_minor": 2
}
