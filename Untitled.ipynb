{
 "cells": [
  {
   "cell_type": "code",
   "execution_count": 14,
   "metadata": {},
   "outputs": [],
   "source": [
    "import matplotlib.pyplot as plt\n",
    "from keras.datasets import mnist\n",
    "import numpy as np\n",
    "import glob\n",
    "\n"
   ]
  },
  {
   "cell_type": "code",
   "execution_count": 15,
   "metadata": {},
   "outputs": [],
   "source": [
    "im = plt.imread(\"/Users/vineet/Desktop/cnn/English/img/GoodImg/Bmp/Sample001/img001-00001.png\")\n"
   ]
  },
  {
   "cell_type": "code",
   "execution_count": 45,
   "metadata": {},
   "outputs": [
    {
     "data": {
      "text/plain": [
       "list"
      ]
     },
     "execution_count": 45,
     "metadata": {},
     "output_type": "execute_result"
    }
   ],
   "source": [
    "images = []\n",
    "labels = []\n",
    "for img in glob.glob(\"/Users/vineet/Desktop/cnn/English/img/GoodImg/Bmp/Sample001/*.png\"):\n",
    "    n= plt.imread(img)\n",
    "    images.append(n)\n",
    "    prefix = img.split(\"-\")\n",
    "    labels.append(prefix[0])\n",
    "#     print (img)\n",
    "type(images)"
   ]
  },
  {
   "cell_type": "code",
   "execution_count": 46,
   "metadata": {},
   "outputs": [],
   "source": [
    "images = np.asarray(images)\n",
    "labels = np.asarray(labels)"
   ]
  },
  {
   "cell_type": "code",
   "execution_count": 47,
   "metadata": {},
   "outputs": [
    {
     "data": {
      "text/plain": [
       "(105,)"
      ]
     },
     "execution_count": 47,
     "metadata": {},
     "output_type": "execute_result"
    }
   ],
   "source": [
    "images.shape"
   ]
  },
  {
   "cell_type": "code",
   "execution_count": 48,
   "metadata": {},
   "outputs": [
    {
     "data": {
      "text/plain": [
       "array(['/Users/vineet/Desktop/cnn/English/img/GoodImg/Bmp/Sample001/img001',\n",
       "       '/Users/vineet/Desktop/cnn/English/img/GoodImg/Bmp/Sample001/img001',\n",
       "       '/Users/vineet/Desktop/cnn/English/img/GoodImg/Bmp/Sample001/img001',\n",
       "       '/Users/vineet/Desktop/cnn/English/img/GoodImg/Bmp/Sample001/img001',\n",
       "       '/Users/vineet/Desktop/cnn/English/img/GoodImg/Bmp/Sample001/img001',\n",
       "       '/Users/vineet/Desktop/cnn/English/img/GoodImg/Bmp/Sample001/img001',\n",
       "       '/Users/vineet/Desktop/cnn/English/img/GoodImg/Bmp/Sample001/img001',\n",
       "       '/Users/vineet/Desktop/cnn/English/img/GoodImg/Bmp/Sample001/img001',\n",
       "       '/Users/vineet/Desktop/cnn/English/img/GoodImg/Bmp/Sample001/img001',\n",
       "       '/Users/vineet/Desktop/cnn/English/img/GoodImg/Bmp/Sample001/img001',\n",
       "       '/Users/vineet/Desktop/cnn/English/img/GoodImg/Bmp/Sample001/img001',\n",
       "       '/Users/vineet/Desktop/cnn/English/img/GoodImg/Bmp/Sample001/img001',\n",
       "       '/Users/vineet/Desktop/cnn/English/img/GoodImg/Bmp/Sample001/img001',\n",
       "       '/Users/vineet/Desktop/cnn/English/img/GoodImg/Bmp/Sample001/img001',\n",
       "       '/Users/vineet/Desktop/cnn/English/img/GoodImg/Bmp/Sample001/img001',\n",
       "       '/Users/vineet/Desktop/cnn/English/img/GoodImg/Bmp/Sample001/img001',\n",
       "       '/Users/vineet/Desktop/cnn/English/img/GoodImg/Bmp/Sample001/img001',\n",
       "       '/Users/vineet/Desktop/cnn/English/img/GoodImg/Bmp/Sample001/img001',\n",
       "       '/Users/vineet/Desktop/cnn/English/img/GoodImg/Bmp/Sample001/img001',\n",
       "       '/Users/vineet/Desktop/cnn/English/img/GoodImg/Bmp/Sample001/img001',\n",
       "       '/Users/vineet/Desktop/cnn/English/img/GoodImg/Bmp/Sample001/img001',\n",
       "       '/Users/vineet/Desktop/cnn/English/img/GoodImg/Bmp/Sample001/img001',\n",
       "       '/Users/vineet/Desktop/cnn/English/img/GoodImg/Bmp/Sample001/img001',\n",
       "       '/Users/vineet/Desktop/cnn/English/img/GoodImg/Bmp/Sample001/img001',\n",
       "       '/Users/vineet/Desktop/cnn/English/img/GoodImg/Bmp/Sample001/img001',\n",
       "       '/Users/vineet/Desktop/cnn/English/img/GoodImg/Bmp/Sample001/img001',\n",
       "       '/Users/vineet/Desktop/cnn/English/img/GoodImg/Bmp/Sample001/img001',\n",
       "       '/Users/vineet/Desktop/cnn/English/img/GoodImg/Bmp/Sample001/img001',\n",
       "       '/Users/vineet/Desktop/cnn/English/img/GoodImg/Bmp/Sample001/img001',\n",
       "       '/Users/vineet/Desktop/cnn/English/img/GoodImg/Bmp/Sample001/img001',\n",
       "       '/Users/vineet/Desktop/cnn/English/img/GoodImg/Bmp/Sample001/img001',\n",
       "       '/Users/vineet/Desktop/cnn/English/img/GoodImg/Bmp/Sample001/img001',\n",
       "       '/Users/vineet/Desktop/cnn/English/img/GoodImg/Bmp/Sample001/img001',\n",
       "       '/Users/vineet/Desktop/cnn/English/img/GoodImg/Bmp/Sample001/img001',\n",
       "       '/Users/vineet/Desktop/cnn/English/img/GoodImg/Bmp/Sample001/img001',\n",
       "       '/Users/vineet/Desktop/cnn/English/img/GoodImg/Bmp/Sample001/img001',\n",
       "       '/Users/vineet/Desktop/cnn/English/img/GoodImg/Bmp/Sample001/img001',\n",
       "       '/Users/vineet/Desktop/cnn/English/img/GoodImg/Bmp/Sample001/img001',\n",
       "       '/Users/vineet/Desktop/cnn/English/img/GoodImg/Bmp/Sample001/img001',\n",
       "       '/Users/vineet/Desktop/cnn/English/img/GoodImg/Bmp/Sample001/img001',\n",
       "       '/Users/vineet/Desktop/cnn/English/img/GoodImg/Bmp/Sample001/img001',\n",
       "       '/Users/vineet/Desktop/cnn/English/img/GoodImg/Bmp/Sample001/img001',\n",
       "       '/Users/vineet/Desktop/cnn/English/img/GoodImg/Bmp/Sample001/img001',\n",
       "       '/Users/vineet/Desktop/cnn/English/img/GoodImg/Bmp/Sample001/img001',\n",
       "       '/Users/vineet/Desktop/cnn/English/img/GoodImg/Bmp/Sample001/img001',\n",
       "       '/Users/vineet/Desktop/cnn/English/img/GoodImg/Bmp/Sample001/img001',\n",
       "       '/Users/vineet/Desktop/cnn/English/img/GoodImg/Bmp/Sample001/img001',\n",
       "       '/Users/vineet/Desktop/cnn/English/img/GoodImg/Bmp/Sample001/img001',\n",
       "       '/Users/vineet/Desktop/cnn/English/img/GoodImg/Bmp/Sample001/img001',\n",
       "       '/Users/vineet/Desktop/cnn/English/img/GoodImg/Bmp/Sample001/img001',\n",
       "       '/Users/vineet/Desktop/cnn/English/img/GoodImg/Bmp/Sample001/img001',\n",
       "       '/Users/vineet/Desktop/cnn/English/img/GoodImg/Bmp/Sample001/img001',\n",
       "       '/Users/vineet/Desktop/cnn/English/img/GoodImg/Bmp/Sample001/img001',\n",
       "       '/Users/vineet/Desktop/cnn/English/img/GoodImg/Bmp/Sample001/img001',\n",
       "       '/Users/vineet/Desktop/cnn/English/img/GoodImg/Bmp/Sample001/img001',\n",
       "       '/Users/vineet/Desktop/cnn/English/img/GoodImg/Bmp/Sample001/img001',\n",
       "       '/Users/vineet/Desktop/cnn/English/img/GoodImg/Bmp/Sample001/img001',\n",
       "       '/Users/vineet/Desktop/cnn/English/img/GoodImg/Bmp/Sample001/img001',\n",
       "       '/Users/vineet/Desktop/cnn/English/img/GoodImg/Bmp/Sample001/img001',\n",
       "       '/Users/vineet/Desktop/cnn/English/img/GoodImg/Bmp/Sample001/img001',\n",
       "       '/Users/vineet/Desktop/cnn/English/img/GoodImg/Bmp/Sample001/img001',\n",
       "       '/Users/vineet/Desktop/cnn/English/img/GoodImg/Bmp/Sample001/img001',\n",
       "       '/Users/vineet/Desktop/cnn/English/img/GoodImg/Bmp/Sample001/img001',\n",
       "       '/Users/vineet/Desktop/cnn/English/img/GoodImg/Bmp/Sample001/img001',\n",
       "       '/Users/vineet/Desktop/cnn/English/img/GoodImg/Bmp/Sample001/img001',\n",
       "       '/Users/vineet/Desktop/cnn/English/img/GoodImg/Bmp/Sample001/img001',\n",
       "       '/Users/vineet/Desktop/cnn/English/img/GoodImg/Bmp/Sample001/img001',\n",
       "       '/Users/vineet/Desktop/cnn/English/img/GoodImg/Bmp/Sample001/img001',\n",
       "       '/Users/vineet/Desktop/cnn/English/img/GoodImg/Bmp/Sample001/img001',\n",
       "       '/Users/vineet/Desktop/cnn/English/img/GoodImg/Bmp/Sample001/img001',\n",
       "       '/Users/vineet/Desktop/cnn/English/img/GoodImg/Bmp/Sample001/img001',\n",
       "       '/Users/vineet/Desktop/cnn/English/img/GoodImg/Bmp/Sample001/img001',\n",
       "       '/Users/vineet/Desktop/cnn/English/img/GoodImg/Bmp/Sample001/img001',\n",
       "       '/Users/vineet/Desktop/cnn/English/img/GoodImg/Bmp/Sample001/img001',\n",
       "       '/Users/vineet/Desktop/cnn/English/img/GoodImg/Bmp/Sample001/img001',\n",
       "       '/Users/vineet/Desktop/cnn/English/img/GoodImg/Bmp/Sample001/img001',\n",
       "       '/Users/vineet/Desktop/cnn/English/img/GoodImg/Bmp/Sample001/img001',\n",
       "       '/Users/vineet/Desktop/cnn/English/img/GoodImg/Bmp/Sample001/img001',\n",
       "       '/Users/vineet/Desktop/cnn/English/img/GoodImg/Bmp/Sample001/img001',\n",
       "       '/Users/vineet/Desktop/cnn/English/img/GoodImg/Bmp/Sample001/img001',\n",
       "       '/Users/vineet/Desktop/cnn/English/img/GoodImg/Bmp/Sample001/img001',\n",
       "       '/Users/vineet/Desktop/cnn/English/img/GoodImg/Bmp/Sample001/img001',\n",
       "       '/Users/vineet/Desktop/cnn/English/img/GoodImg/Bmp/Sample001/img001',\n",
       "       '/Users/vineet/Desktop/cnn/English/img/GoodImg/Bmp/Sample001/img001',\n",
       "       '/Users/vineet/Desktop/cnn/English/img/GoodImg/Bmp/Sample001/img001',\n",
       "       '/Users/vineet/Desktop/cnn/English/img/GoodImg/Bmp/Sample001/img001',\n",
       "       '/Users/vineet/Desktop/cnn/English/img/GoodImg/Bmp/Sample001/img001',\n",
       "       '/Users/vineet/Desktop/cnn/English/img/GoodImg/Bmp/Sample001/img001',\n",
       "       '/Users/vineet/Desktop/cnn/English/img/GoodImg/Bmp/Sample001/img001',\n",
       "       '/Users/vineet/Desktop/cnn/English/img/GoodImg/Bmp/Sample001/img001',\n",
       "       '/Users/vineet/Desktop/cnn/English/img/GoodImg/Bmp/Sample001/img001',\n",
       "       '/Users/vineet/Desktop/cnn/English/img/GoodImg/Bmp/Sample001/img001',\n",
       "       '/Users/vineet/Desktop/cnn/English/img/GoodImg/Bmp/Sample001/img001',\n",
       "       '/Users/vineet/Desktop/cnn/English/img/GoodImg/Bmp/Sample001/img001',\n",
       "       '/Users/vineet/Desktop/cnn/English/img/GoodImg/Bmp/Sample001/img001',\n",
       "       '/Users/vineet/Desktop/cnn/English/img/GoodImg/Bmp/Sample001/img001',\n",
       "       '/Users/vineet/Desktop/cnn/English/img/GoodImg/Bmp/Sample001/img001',\n",
       "       '/Users/vineet/Desktop/cnn/English/img/GoodImg/Bmp/Sample001/img001',\n",
       "       '/Users/vineet/Desktop/cnn/English/img/GoodImg/Bmp/Sample001/img001',\n",
       "       '/Users/vineet/Desktop/cnn/English/img/GoodImg/Bmp/Sample001/img001',\n",
       "       '/Users/vineet/Desktop/cnn/English/img/GoodImg/Bmp/Sample001/img001',\n",
       "       '/Users/vineet/Desktop/cnn/English/img/GoodImg/Bmp/Sample001/img001',\n",
       "       '/Users/vineet/Desktop/cnn/English/img/GoodImg/Bmp/Sample001/img001',\n",
       "       '/Users/vineet/Desktop/cnn/English/img/GoodImg/Bmp/Sample001/img001',\n",
       "       '/Users/vineet/Desktop/cnn/English/img/GoodImg/Bmp/Sample001/img001'],\n",
       "      dtype='<U66')"
      ]
     },
     "execution_count": 48,
     "metadata": {},
     "output_type": "execute_result"
    }
   ],
   "source": [
    "labels"
   ]
  },
  {
   "cell_type": "code",
   "execution_count": null,
   "metadata": {},
   "outputs": [],
   "source": []
  }
 ],
 "metadata": {
  "language_info": {
   "codemirror_mode": {
    "name": "ipython",
    "version": 3
   },
   "file_extension": ".py",
   "mimetype": "text/x-python",
   "name": "python",
   "nbconvert_exporter": "python",
   "pygments_lexer": "ipython3",
   "version": "3.6.4"
  }
 },
 "nbformat": 4,
 "nbformat_minor": 2
}
