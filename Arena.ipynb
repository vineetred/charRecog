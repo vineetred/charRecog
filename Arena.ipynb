{
 "cells": [
  {
   "cell_type": "code",
   "execution_count": 2,
   "metadata": {},
   "outputs": [
    {
     "ename": "ModuleNotFoundError",
     "evalue": "No module named 'matplotlib'",
     "output_type": "error",
     "traceback": [
      "\u001b[0;31m---------------------------------------------------------------------------\u001b[0m",
      "\u001b[0;31mModuleNotFoundError\u001b[0m                       Traceback (most recent call last)",
      "\u001b[0;32m<ipython-input-2-df846a50bcc7>\u001b[0m in \u001b[0;36m<module>\u001b[0;34m\u001b[0m\n\u001b[0;32m----> 1\u001b[0;31m \u001b[0;32mimport\u001b[0m \u001b[0mmatplotlib\u001b[0m\u001b[0;34m.\u001b[0m\u001b[0mpyplot\u001b[0m \u001b[0;32mas\u001b[0m \u001b[0mplt\u001b[0m\u001b[0;34m\u001b[0m\u001b[0;34m\u001b[0m\u001b[0m\n\u001b[0m\u001b[1;32m      2\u001b[0m \u001b[0;32mfrom\u001b[0m \u001b[0mkeras\u001b[0m\u001b[0;34m.\u001b[0m\u001b[0mdatasets\u001b[0m \u001b[0;32mimport\u001b[0m \u001b[0mmnist\u001b[0m\u001b[0;34m\u001b[0m\u001b[0;34m\u001b[0m\u001b[0m\n\u001b[1;32m      3\u001b[0m \u001b[0;32mimport\u001b[0m \u001b[0mnumpy\u001b[0m \u001b[0;32mas\u001b[0m \u001b[0mnp\u001b[0m\u001b[0;34m\u001b[0m\u001b[0;34m\u001b[0m\u001b[0m\n\u001b[1;32m      4\u001b[0m \u001b[0;32mimport\u001b[0m \u001b[0mglob\u001b[0m\u001b[0;34m\u001b[0m\u001b[0;34m\u001b[0m\u001b[0m\n\u001b[1;32m      5\u001b[0m \u001b[0;32mimport\u001b[0m \u001b[0mcv2\u001b[0m\u001b[0;34m\u001b[0m\u001b[0;34m\u001b[0m\u001b[0m\n",
      "\u001b[0;31mModuleNotFoundError\u001b[0m: No module named 'matplotlib'"
     ]
    }
   ],
   "source": [
    "import matplotlib.pyplot as plt\n",
    "from keras.datasets import mnist\n",
    "import numpy as np\n",
    "import glob\n",
    "import cv2\n",
    "!pwd"
   ]
  },
  {
   "cell_type": "code",
   "execution_count": 2,
   "metadata": {},
   "outputs": [],
   "source": [
    "from sklearn.model_selection import train_test_split"
   ]
  },
  {
   "cell_type": "code",
   "execution_count": 34,
   "metadata": {},
   "outputs": [],
   "source": [
    "images = []\n",
    "labels = []\n",
    "for path in glob.glob(\"/home/vineet/English/Img/GoodImg/Bmp/Sample*\"):\n",
    "#     print(path)\n",
    "#     for img in glob.glob(\"/Users/vineet/Desktop/cnn/English/img/GoodImg/Bmp/Sample001/*.png\"):\n",
    "    for img in glob.glob(path+\"/*.png\"):\n",
    "#         print(img)\n",
    "        n= cv2.imread(img)\n",
    "#         images.append(np.resize(n,(32,32,3)))\n",
    "        images.append(cv2.resize(n,(32,32)))\n",
    "        prefix = img.split(\"/Sample\")\n",
    "        prefix = prefix[1].split(\"/\")\n",
    "        labels.append(prefix[0])\n",
    "    "
   ]
  },
  {
   "cell_type": "code",
   "execution_count": 35,
   "metadata": {},
   "outputs": [],
   "source": [
    "from keras.utils import to_categorical\n",
    "labels = to_categorical(labels)"
   ]
  },
  {
   "cell_type": "code",
   "execution_count": 36,
   "metadata": {},
   "outputs": [
    {
     "data": {
      "text/plain": [
       "<matplotlib.image.AxesImage at 0x7f3c41ad7c88>"
      ]
     },
     "execution_count": 36,
     "metadata": {},
     "output_type": "execute_result"
    },
    {
     "data": {
      "image/png": "[encoded data removed]",
      "text/plain": [
       "<Figure size 432x288 with 1 Axes>"
      ]
     },
     "metadata": {},
     "output_type": "display_data"
    }
   ],
   "source": [
    "plt.imshow(images[3902])"
   ]
  },
  {
   "cell_type": "code",
   "execution_count": 37,
   "metadata": {},
   "outputs": [],
   "source": [
    "image3 = images[0:500]\n",
    "labels1 = labels[0:500] \n",
    "image3 = np.array(image3)\n",
    "image3.shape\n",
    "images = np.array(images)"
   ]
  },
  {
   "cell_type": "code",
   "execution_count": 38,
   "metadata": {},
   "outputs": [],
   "source": [
    "X_train, X_test, y_train, y_test = train_test_split(images, labels, test_size=0.33)"
   ]
  },
  {
   "cell_type": "code",
   "execution_count": 56,
   "metadata": {},
   "outputs": [],
   "source": [
    "from keras.models import Sequential\n",
    "from keras.layers import Dense, Conv2D, Flatten,MaxPooling2D, Dropout\n",
    "model = Sequential()\n",
    "model.add(Conv2D(16, kernel_size=(5,5),activation='relu',input_shape=(32,32,3)))\n",
    "model.add(Conv2D(64, (3, 3), activation='relu'))\n",
    "# model.add(Conv2D(128, (3, 3), activation='relu'))\n",
    "model.add(MaxPooling2D(pool_size =(4,4), strides = (1,1)))\n",
    "model.add(Conv2D(64, (3, 3), activation='relu'))\n",
    "model.add(Conv2D(64, (3, 3), activation='relu'))\n",
    "model.add(MaxPooling2D(pool_size =(2,2), strides = (1,1)))\n",
    "# model.add(Dropout(0.25))\n",
    "model.add(Conv2D(128, (3, 3), activation='relu'))\n",
    "model.add(Conv2D(128, (3, 3), activation='relu'))\n",
    "model.add(MaxPooling2D(pool_size =(2,2), strides = (1,1)))\n",
    "# model.add(MaxPooling2D(pool_size =(2,2), strides = (1,1)))\n",
    "model.add(Conv2D(32, (3, 3), activation='relu'))\n",
    "# model.add(Conv2D(32, (3, 3), activation='relu'))\n",
    "model.add(MaxPooling2D(pool_size =(2,2), strides = (1,1)))\n",
    "# model.add(MaxPooling2D(pool_size =(2,2), strides = (1,1)))\n",
    "# model.add(Conv2D(256, (3, 3), activation='relu'))\n",
    "# model.add(MaxPooling2D(pool_size =(2,2), strides = (1,1)))\n",
    "model.add(Flatten())\n",
    "# model.add(Dropout(0.25))\n",
    "# model.add(Dense(1024,activation=\"relu\"))\n",
    "model.add(Dense(64,activation=\"relu\"))\n",
    "model.add(Dense(64,activation=\"relu\"))\n",
    "model.add(Dense(64,activation=\"sigmoid\"))\n",
    "model.add(Dense(63,activation=\"softmax\"))"
   ]
  },
  {
   "cell_type": "code",
   "execution_count": 75,
   "metadata": {},
   "outputs": [],
   "source": [
    "# Step 1 - Convolution\n",
    "classifier = Sequential()\n",
    "classifier.add(Conv2D(32, (3, 3), padding='same', input_shape = (32, 32, 3), activation = 'relu'))\n",
    "classifier.add(Conv2D(32, (3, 3), activation='relu'))\n",
    "classifier.add(MaxPooling2D(pool_size=(2, 2)))\n",
    "classifier.add(Dropout(0.5)) # antes era 0.25\n",
    "# Adding a second convolutional layer\n",
    "classifier.add(Conv2D(64, (3, 3), padding='same', activation = 'relu'))\n",
    "classifier.add(Conv2D(64, (3, 3), activation='relu'))\n",
    "classifier.add(MaxPooling2D(pool_size=(2, 2)))\n",
    "classifier.add(Dropout(0.5)) # antes era 0.25\n",
    "# Adding a third convolutional layer\n",
    "classifier.add(Conv2D(64, (3, 3), padding='same', activation = 'relu'))\n",
    "classifier.add(Conv2D(64, (3, 3), activation='relu'))\n",
    "classifier.add(MaxPooling2D(pool_size=(2, 2)))\n",
    "classifier.add(Dropout(0.5)) # antes era 0.25\n",
    "# Step 3 - Flattening\n",
    "classifier.add(Flatten())\n",
    "# Step 4 - Full connection\n",
    "classifier.add(Dense(units = 512, activation = 'relu'))\n",
    "classifier.add(Dropout(0.5)) \n",
    "classifier.add(Dense(units = 62, activation = 'softmax'))"
   ]
  },
  {
   "cell_type": "code",
   "execution_count": 76,
   "metadata": {},
   "outputs": [],
   "source": [
    "model = classifier\n",
    "model.compile(optimizer='rmsprop', loss='categorical_crossentropy', metrics=['accuracy'])"
   ]
  },
  {
   "cell_type": "code",
   "execution_count": 68,
   "metadata": {},
   "outputs": [
    {
     "name": "stdout",
     "output_type": "stream",
     "text": [
      "Epoch 1/5\n",
      "2543/2543 [==============================] - 16s 6ms/step - loss: 15.8456 - acc: 0.0169\n",
      "Epoch 2/5\n",
      "2543/2543 [==============================] - 14s 6ms/step - loss: 15.8456 - acc: 0.0169\n",
      "Epoch 3/5\n",
      "2543/2543 [==============================] - 16s 6ms/step - loss: 15.8456 - acc: 0.0169\n",
      "Epoch 4/5\n",
      "2543/2543 [==============================] - 14s 6ms/step - loss: 15.8456 - acc: 0.0169\n",
      "Epoch 5/5\n",
      "2543/2543 [==============================] - 14s 6ms/step - loss: 15.8456 - acc: 0.0169\n"
     ]
    },
    {
     "data": {
      "text/plain": [
       "<keras.callbacks.History at 0x7f3c434bbf60>"
      ]
     },
     "execution_count": 68,
     "metadata": {},
     "output_type": "execute_result"
    }
   ],
   "source": [
    "model.fit(X_test,y_test, epochs=5,batch_size=1)"
   ]
  },
  {
   "cell_type": "code",
   "execution_count": 69,
   "metadata": {},
   "outputs": [
    {
     "name": "stdout",
     "output_type": "stream",
     "text": [
      "_________________________________________________________________\n",
      "Layer (type)                 Output Shape              Param #   \n",
      "=================================================================\n",
      "conv2d_44 (Conv2D)           (None, 32, 32, 32)        896       \n",
      "_________________________________________________________________\n",
      "conv2d_45 (Conv2D)           (None, 30, 30, 32)        9248      \n",
      "_________________________________________________________________\n",
      "max_pooling2d_26 (MaxPooling (None, 15, 15, 32)        0         \n",
      "_________________________________________________________________\n",
      "dropout_1 (Dropout)          (None, 15, 15, 32)        0         \n",
      "_________________________________________________________________\n",
      "conv2d_46 (Conv2D)           (None, 15, 15, 64)        18496     \n",
      "_________________________________________________________________\n",
      "conv2d_47 (Conv2D)           (None, 13, 13, 64)        36928     \n",
      "_________________________________________________________________\n",
      "max_pooling2d_27 (MaxPooling (None, 6, 6, 64)          0         \n",
      "_________________________________________________________________\n",
      "dropout_2 (Dropout)          (None, 6, 6, 64)          0         \n",
      "_________________________________________________________________\n",
      "conv2d_48 (Conv2D)           (None, 6, 6, 64)          36928     \n",
      "_________________________________________________________________\n",
      "conv2d_49 (Conv2D)           (None, 4, 4, 64)          36928     \n",
      "_________________________________________________________________\n",
      "max_pooling2d_28 (MaxPooling (None, 2, 2, 64)          0         \n",
      "_________________________________________________________________\n",
      "dropout_3 (Dropout)          (None, 2, 2, 64)          0         \n",
      "_________________________________________________________________\n",
      "flatten_11 (Flatten)         (None, 256)               0         \n",
      "_________________________________________________________________\n",
      "dense_41 (Dense)             (None, 512)               131584    \n",
      "_________________________________________________________________\n",
      "dropout_4 (Dropout)          (None, 512)               0         \n",
      "_________________________________________________________________\n",
      "dense_42 (Dense)             (None, 63)                32319     \n",
      "=================================================================\n",
      "Total params: 303,327\n",
      "Trainable params: 303,327\n",
      "Non-trainable params: 0\n",
      "_________________________________________________________________\n"
     ]
    }
   ],
   "source": [
    "model.summary()\n"
   ]
  },
  {
   "cell_type": "code",
   "execution_count": 77,
   "metadata": {},
   "outputs": [
    {
     "name": "stdout",
     "output_type": "stream",
     "text": [
      "Found 7705 images belonging to 62 classes.\n",
      "Found 7705 images belonging to 62 classes.\n"
     ]
    }
   ],
   "source": [
    "from keras.preprocessing.image import ImageDataGenerator\n",
    "from keras.callbacks import ModelCheckpoint\n",
    "train_datagen = ImageDataGenerator(rescale = 1./255)\n",
    "test_datagen = ImageDataGenerator(rescale = 1./255)\n",
    "training_set = train_datagen.flow_from_directory('/home/vineet/English/Img/GoodImg/Bmp/',\n",
    "                                                 target_size = (32,\n",
    "                                                 32),\n",
    "                                                 batch_size = 16,\n",
    "                                                 class_mode =\n",
    "                                                     'categorical')\n",
    "test_set = test_datagen.flow_from_directory('/home/vineet/English/Img/GoodImg/Bmp/',\n",
    "                                            target_size = (32, 32),\n",
    "                                            batch_size = 16,\n",
    "                                            class_mode =\n",
    "                                                 'categorical')"
   ]
  },
  {
   "cell_type": "code",
   "execution_count": 83,
   "metadata": {},
   "outputs": [
    {
     "name": "stdout",
     "output_type": "stream",
     "text": [
      "Epoch 1/25\n",
      "100/100 [==============================] - 1s 12ms/step - loss: 1.4369 - acc: 0.6223\n",
      "Epoch 2/25\n",
      "100/100 [==============================] - 1s 12ms/step - loss: 1.4990 - acc: 0.6081\n",
      "Epoch 3/25\n",
      "100/100 [==============================] - 1s 12ms/step - loss: 1.3614 - acc: 0.6219\n",
      "Epoch 4/25\n",
      "100/100 [==============================] - 1s 12ms/step - loss: 1.4101 - acc: 0.6206\n",
      "Epoch 5/25\n",
      "100/100 [==============================] - 1s 12ms/step - loss: 1.4219 - acc: 0.6194\n",
      "Epoch 6/25\n",
      "100/100 [==============================] - 1s 14ms/step - loss: 1.4529 - acc: 0.6350\n",
      "Epoch 7/25\n",
      "100/100 [==============================] - 1s 14ms/step - loss: 1.4519 - acc: 0.6194\n",
      "Epoch 8/25\n",
      "100/100 [==============================] - 1s 14ms/step - loss: 1.4091 - acc: 0.6206\n",
      "Epoch 9/25\n",
      "100/100 [==============================] - 1s 13ms/step - loss: 1.4875 - acc: 0.6181\n",
      "Epoch 10/25\n",
      "100/100 [==============================] - 1s 14ms/step - loss: 1.5448 - acc: 0.6038\n",
      "Epoch 11/25\n",
      "100/100 [==============================] - 1s 14ms/step - loss: 1.4213 - acc: 0.6173\n",
      "Epoch 12/25\n",
      "100/100 [==============================] - 1s 13ms/step - loss: 1.4626 - acc: 0.6262\n",
      "Epoch 13/25\n",
      "100/100 [==============================] - 1s 12ms/step - loss: 1.3888 - acc: 0.6331\n",
      "Epoch 14/25\n",
      "100/100 [==============================] - 1s 12ms/step - loss: 1.5120 - acc: 0.6125\n",
      "Epoch 15/25\n",
      "100/100 [==============================] - 1s 12ms/step - loss: 1.4647 - acc: 0.6188\n",
      "Epoch 16/25\n",
      "100/100 [==============================] - 1s 12ms/step - loss: 1.3895 - acc: 0.6287\n",
      "Epoch 17/25\n",
      "100/100 [==============================] - 1s 11ms/step - loss: 1.4449 - acc: 0.6150\n",
      "Epoch 18/25\n",
      "100/100 [==============================] - 1s 12ms/step - loss: 1.5223 - acc: 0.6119\n",
      "Epoch 19/25\n",
      "100/100 [==============================] - 1s 12ms/step - loss: 1.4330 - acc: 0.6294\n",
      "Epoch 20/25\n",
      "100/100 [==============================] - 1s 12ms/step - loss: 1.4515 - acc: 0.6275\n",
      "Epoch 21/25\n",
      "100/100 [==============================] - 1s 12ms/step - loss: 1.4994 - acc: 0.6108\n",
      "Epoch 22/25\n",
      "100/100 [==============================] - 1s 11ms/step - loss: 1.4587 - acc: 0.6294\n",
      "Epoch 23/25\n",
      "100/100 [==============================] - 1s 11ms/step - loss: 1.4782 - acc: 0.6162\n",
      "Epoch 24/25\n",
      "100/100 [==============================] - 1s 12ms/step - loss: 1.5737 - acc: 0.5763\n",
      "Epoch 25/25\n",
      "100/100 [==============================] - 1s 12ms/step - loss: 1.5263 - acc: 0.6150\n"
     ]
    }
   ],
   "source": [
    "history = classifier.fit_generator(training_set,\n",
    "                                   steps_per_epoch = 100,\n",
    "                                   epochs = 25,\n",
    "                                   )"
   ]
  },
  {
   "cell_type": "code",
   "execution_count": 120,
   "metadata": {},
   "outputs": [
    {
     "data": {
      "image/png": "[encoded data removed]",
      "text/plain": [
       "<Figure size 432x288 with 1 Axes>"
      ]
     },
     "metadata": {},
     "output_type": "display_data"
    }
   ],
   "source": [
    "from keras.preprocessing import image\n",
    "img = image.load_img('/home/vineet/English/Img/GoodImg/Bmp/Sample002/img002-00055.png',target_size=(32,32))\n",
    "plt.imshow(img)\n",
    "img = np.expand_dims(img, axis=0)\n",
    "\n",
    "# img.shape\n",
    "# plt.imshow(training_set[0][0])"
   ]
  },
  {
   "cell_type": "code",
   "execution_count": 116,
   "metadata": {},
   "outputs": [
    {
     "data": {
      "text/plain": [
       "array([[0., 0., 0., 0., 0., 0., 0., 0., 0., 0., 0., 0., 0., 0., 0., 0.,\n",
       "        0., 0., 0., 0., 0., 0., 0., 1., 0., 0., 0., 0., 0., 0., 0., 0.,\n",
       "        0., 0., 0., 0., 0., 0., 0., 0., 0., 0., 0., 0., 0., 0., 0., 0.,\n",
       "        0., 0., 0., 0., 0., 0., 0., 0., 0., 0., 0., 0., 0., 0.]],\n",
       "      dtype=float32)"
      ]
     },
     "execution_count": 116,
     "metadata": {},
     "output_type": "execute_result"
    }
   ],
   "source": [
    "classifier.predict(img)"
   ]
  },
  {
   "cell_type": "code",
   "execution_count": 118,
   "metadata": {},
   "outputs": [
    {
     "data": {
      "text/plain": [
       "[0.9273290312290192, 0.74]"
      ]
     },
     "execution_count": 118,
     "metadata": {},
     "output_type": "execute_result"
    }
   ],
   "source": [
    "classifier.evaluate_generator(test_set,steps = 100)"
   ]
  },
  {
   "cell_type": "code",
   "execution_count": null,
   "metadata": {},
   "outputs": [],
   "source": []
  }
 ],
 "metadata": {
  "kernelspec": {
   "display_name": "Python 3",
   "language": "python",
   "name": "python3"
  },
  "language_info": {
   "codemirror_mode": {
    "name": "ipython",
    "version": 3
   },
   "file_extension": ".py",
   "mimetype": "text/x-python",
   "name": "python",
   "nbconvert_exporter": "python",
   "pygments_lexer": "ipython3",
   "version": "3.7.2"
  }
 },
 "nbformat": 4,
 "nbformat_minor": 2
}
